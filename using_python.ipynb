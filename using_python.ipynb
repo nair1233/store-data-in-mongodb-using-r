{
  "nbformat": 4,
  "nbformat_minor": 0,
  "metadata": {
    "colab": {
      "name": "using python.ipynb",
      "provenance": []
    },
    "kernelspec": {
      "name": "python3",
      "display_name": "Python 3"
    },
    "language_info": {
      "name": "python"
    }
  },
  "cells": [
    {
      "cell_type": "code",
      "metadata": {
        "id": "twxKSuk8cGBZ"
      },
      "source": [
        "#Load libraries\n",
        "import pandas as pd\n",
        "import os\n",
        "import pymongo as pymongo\n",
        "from pymongo import MongoClient\n",
        "import json\n",
        "\n",
        "#Set working directory\n",
        "os.chdir(\"C:/Users/admin/Documents/Python Files\")\n",
        "\n",
        "# Connect to the MongoDB, change the connection string per your MongoDB environment\n",
        "Channel = MongoClient(port=27017)\n",
        "\n",
        "#creating a database test and a collection mtcars\n",
        "db = Channel['test'] \n",
        "mtcars = db['mtcars']\n",
        "\n",
        "# Store a Dataframe-df into MongoDB\n",
        "df = pd.read_csv(\"mtcars.csv\")\n",
        "data_json = json.loads(df.to_json(orient='records'))\n",
        "\n",
        "mtcars.insert_many(data_json)\n",
        "\n",
        "<pymongo.results.InsertManyResult at 0x20cb167a5c8>\n",
        "\n",
        "#see our loaded data\n",
        "cursor = mtcars.find()\n",
        "result = pd.DataFrame(list(cursor)) \n",
        "result.head(10)\n",
        "\n",
        "Unnamed: 0\t_id\tam\tcarb\tcyl\tdisp\tdrat\tgear\thp\tmpg\tqsec\tvs\twt\n",
        "0\tMazda RX4\t5c6ae379452bef1974e248be\t1\t4\t6\t160.0\t3.90\t4\t110\t21.0\t16.46\t0\t2.620\n",
        "1\tMazda RX4 Wag\t5c6ae379452bef1974e248bf\t1\t4\t6\t160.0\t3.90\t4\t110\t21.0\t17.02\t0\t2.875\n",
        "2\tDatsun 710\t5c6ae379452bef1974e248c0\t1\t1\t4\t108.0\t3.85\t4\t93\t22.8\t18.61\t1\t2.320\n",
        "3\tHornet 4 Drive\t5c6ae379452bef1974e248c1\t0\t1\t6\t258.0\t3.08\t3\t110\t21.4\t19.44\t1\t3.215\n",
        "4\tHornet Sportabout\t5c6ae379452bef1974e248c2\t0\t2\t8\t360.0\t3.15\t3\t175\t18.7\t17.02\t0\t3.440\n",
        "5\tValiant\t5c6ae379452bef1974e248c3\t0\t1\t6\t225.0\t2.76\t3\t105\t18.1\t20.22\t1\t3.460\n",
        "6\tDuster 360\t5c6ae379452bef1974e248c4\t0\t4\t8\t360.0\t3.21\t3\t245\t14.3\t15.84\t0\t3.570\n",
        "7\tMerc 240D\t5c6ae379452bef1974e248c5\t0\t2\t4\t146.7\t3.69\t4\t62\t24.4\t20.00\t1\t3.190\n",
        "8\tMerc 230\t5c6ae379452bef1974e248c6\t0\t2\t4\t140.8\t3.92\t4\t95\t22.8\t22.90\t1\t3.150\n",
        "9\tMerc 280\t5c6ae379452bef1974e248c7\t0\t4\t6\t167.6\t3.92\t4\t123\t19.2\t18.30\t1\t3.440\n",
        "\n",
        "#loading a data in the form of key-value pair\n",
        "dictionary = { \"name\": \"Peter\", \"address\": \"Lowstreet 27\" }\n",
        "list1 = [\n",
        "  { \"name\": \"Amy\", \"address\": \"Apple st 652\"},\n",
        "  { \"name\": \"Hannah\", \"address\": \"Mountain 21\"},\n",
        "  { \"name\": \"Michael\", \"address\": \"Valley 345\"},\n",
        "  { \"name\": \"Sandy\", \"address\": \"Ocean blvd 2\"},\n",
        "  { \"name\": \"Betty\", \"address\": \"Green Grass 1\"},\n",
        "  { \"name\": \"Richard\", \"address\": \"Sky st 331\"},\n",
        "  { \"name\": \"Susan\", \"address\": \"One way 98\"},\n",
        "  { \"name\": \"Vicky\", \"address\": \"Yellow Garden 2\"},\n",
        "  { \"name\": \"Ben\", \"address\": \"Park Lane 38\"},\n",
        "  { \"name\": \"William\", \"address\": \"Central st 954\"},\n",
        "  { \"name\": \"Chuck\", \"address\": \"Main Road 989\"},\n",
        "  { \"name\": \"Viola\", \"address\": \"Sideway 1633\"}\n",
        "]\n",
        "\n",
        "#deleting previously loaded data and loading a single document\n",
        "mtcars.delete_many({})\n",
        "x = mtcars.insert_one(dictionary)\n",
        "\n",
        "#see our loaded data\n",
        "for x in mtcars.find():\n",
        "  print(x)\n",
        "{'_id': ObjectId('5c6ae570452bef1974e248ff'), 'name': 'Peter', 'address': 'Lowstreet 27'}\n",
        "\n",
        "#deleting previously loaded data and loading multiple documents\n",
        "mtcars.delete_many({})\n",
        "x = mtcars.insert_many(list1)\n",
        "\n",
        "#see our loaded data\n",
        "for x in mtcars.find():\n",
        "  print(x)\n",
        "{'_id': ObjectId('5c6ae594452bef1974e24900'), 'name': 'Amy', 'address': 'Apple st 652'}\n",
        "{'_id': ObjectId('5c6ae594452bef1974e24901'), 'name': 'Hannah', 'address': 'Mountain 21'}\n",
        "{'_id': ObjectId('5c6ae594452bef1974e24902'), 'name': 'Michael', 'address': 'Valley 345'}\n",
        "{'_id': ObjectId('5c6ae594452bef1974e24903'), 'name': 'Sandy', 'address': 'Ocean blvd 2'}\n",
        "{'_id': ObjectId('5c6ae594452bef1974e24904'), 'name': 'Betty', 'address': 'Green Grass 1'}\n",
        "{'_id': ObjectId('5c6ae594452bef1974e24905'), 'name': 'Richard', 'address': 'Sky st 331'}\n",
        "{'_id': ObjectId('5c6ae594452bef1974e24906'), 'name': 'Susan', 'address': 'One way 98'}\n",
        "{'_id': ObjectId('5c6ae594452bef1974e24907'), 'name': 'Vicky', 'address': 'Yellow Garden 2'}\n",
        "{'_id': ObjectId('5c6ae594452bef1974e24908'), 'name': 'Ben', 'address': 'Park Lane 38'}\n",
        "{'_id': ObjectId('5c6ae594452bef1974e24909'), 'name': 'William', 'address': 'Central st 954'}\n",
        "{'_id': ObjectId('5c6ae594452bef1974e2490a'), 'name': 'Chuck', 'address': 'Main Road 989'}\n",
        "{'_id': ObjectId('5c6ae594452bef1974e2490b'), 'name': 'Viola', 'address': 'Sideway 1633'}"
      ],
      "execution_count": null,
      "outputs": []
    },
    {
      "cell_type": "code",
      "metadata": {
        "id": "4-EZgqKGXrdF"
      },
      "source": [
        ""
      ],
      "execution_count": null,
      "outputs": []
    }
  ]
}